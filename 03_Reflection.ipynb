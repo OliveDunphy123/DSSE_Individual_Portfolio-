{
  "cells": [
    {
      "cell_type": "markdown",
      "metadata": {
        "id": "view-in-github",
        "colab_type": "text"
      },
      "source": [
        "<a href=\"https://colab.research.google.com/github/OliveDunphy123/DSSE_Individual_Portfolio-/blob/main/03_Reflection.ipynb\" target=\"_parent\"><img src=\"https://colab.research.google.com/assets/colab-badge.svg\" alt=\"Open In Colab\"/></a>"
      ]
    },
    {
      "cell_type": "markdown",
      "id": "cd0a72a6-38f2-4082-8858-9be6a00136fe",
      "metadata": {
        "id": "cd0a72a6-38f2-4082-8858-9be6a00136fe"
      },
      "source": [
        "**GRS35306 - Data Science for Smart Environments**"
      ]
    },
    {
      "cell_type": "markdown",
      "id": "0dda5208-bca0-4c39-b39a-e57d30bb5c05",
      "metadata": {
        "id": "0dda5208-bca0-4c39-b39a-e57d30bb5c05"
      },
      "source": [
        "# Reflection on learning process, potential use and Social aspects of Algorithms"
      ]
    },
    {
      "cell_type": "markdown",
      "id": "f119ddd9-ee4f-4541-b509-8414b3e9ab77",
      "metadata": {
        "id": "f119ddd9-ee4f-4541-b509-8414b3e9ab77"
      },
      "source": [
        "**Student: Qin Xu (1274376)** \\\n",
        "**MGI (Geo Information Science)**"
      ]
    },
    {
      "cell_type": "markdown",
      "id": "774baf40-77d5-401b-89fc-70464eac4bb3",
      "metadata": {
        "id": "774baf40-77d5-401b-89fc-70464eac4bb3"
      },
      "source": [
        "---"
      ]
    },
    {
      "cell_type": "markdown",
      "id": "f1898226-32c3-4bed-966e-cbc3ef32e9e2",
      "metadata": {
        "id": "f1898226-32c3-4bed-966e-cbc3ef32e9e2"
      },
      "source": [
        "### Learning process"
      ]
    },
    {
      "cell_type": "markdown",
      "id": "b7eef4d0-31d0-4889-aa5e-7a5627e16a77",
      "metadata": {
        "id": "b7eef4d0-31d0-4889-aa5e-7a5627e16a77"
      },
      "source": [
        "**BCC:** All members of our team are from different countries, which makes everyone very friendly and easy to communicate with. We have clear division of tasks, and everyone is actively and diligently completing their own assignments. Most importantly, we come from diverse cultural and professional backgrounds, which allows for a lot of perspectives that I had never considered before in our discussions. For example, at the beginning of our discussions, a team member suggested considering certain natural factors like wind direction and wind speed due to his earth background. My teammates have provided me with many new perspectives and insights into environmental issues. Additionally, some of my teammates are proficient in programming, which has been very helpful for me. Whenever I encounter problems in Python that I can't quite solve, they patiently communicate with me and provide solutions."
      ]
    },
    {
      "cell_type": "markdown",
      "id": "946b3400-e395-44ae-b5b1-bbada57da00c",
      "metadata": {
        "id": "946b3400-e395-44ae-b5b1-bbada57da00c"
      },
      "source": [
        "**Went good**:This course is more based on learning with groupmates and self study which is a quite good way to learn. I learned a lot by myself on datacamp, geeksforgeeks and Google search. And get inspired by groupmates and taeachers. Especially the ML day, Jascha introduced us almost every common machine learning and deep learning models and give our project some useful suggestions. He discussed about the theroy on Chatgpt and the future on AI.It like a inspiration and curiosity lecture to attract us understand the difficult knowledge by a easy way to tell us. It drives me more curious about learn more deep on machine learning and deep learning ."
      ]
    },
    {
      "cell_type": "markdown",
      "id": "8348bd0f-2fa0-4c9c-9ede-c371d0082e67",
      "metadata": {
        "id": "8348bd0f-2fa0-4c9c-9ede-c371d0082e67"
      },
      "source": [
        "**Went not good:** We encountered lots of problems at first and search the data back and forth hope to find the data with fitful time frame and spatial resolution. And For the course itself, it would be better if this course have more lectures like ML day. It's an introduction about advanced field which will give us more information."
      ]
    },
    {
      "cell_type": "markdown",
      "id": "91ee48fc-edde-420f-80b5-a6f5a910ce34",
      "metadata": {
        "id": "91ee48fc-edde-420f-80b5-a6f5a910ce34"
      },
      "source": [
        "---"
      ]
    },
    {
      "cell_type": "markdown",
      "id": "5add9040-09f9-448a-98ff-65a43b780a76",
      "metadata": {
        "id": "5add9040-09f9-448a-98ff-65a43b780a76"
      },
      "source": [
        "### Potential use"
      ]
    },
    {
      "cell_type": "markdown",
      "id": "b7b38dcc-18d2-4c18-91e7-27977a954f58",
      "metadata": {
        "id": "b7b38dcc-18d2-4c18-91e7-27977a954f58"
      },
      "source": [
        "**Our project focuses more on identifying the known factors influencing air pollution emissions and their relationships, and finding these relationships by model training and prediction. The conclusions we draw are mostly about the technology itself, but they can also have certain societal implications. For example, the high feature importance scores for the transportation and chemical industries imply that these two sectors will have a significant impact in the prediction process. However, it is important to exercise caution when criticizing specific provinces in Poland for their transportation or chemical industries based solely on our conclusions. Taking action based on these conclusions requires careful consideration because the data analysis process may not have accounted for all factors due to difficulties in data acquisition and the omission of potential variables such as land use, wind speed, and wind direction. These natural factors were not incorporated into the static model we focused on, neglecting the dynamic aspects.**"
      ]
    },
    {
      "cell_type": "markdown",
      "id": "eccd07d6-7c81-4d57-a49b-adcd0afdeead",
      "metadata": {
        "id": "eccd07d6-7c81-4d57-a49b-adcd0afdeead"
      },
      "source": [
        "---"
      ]
    },
    {
      "cell_type": "markdown",
      "id": "fd26b848-0da7-40cd-bf3a-a0f45fabe368",
      "metadata": {
        "id": "fd26b848-0da7-40cd-bf3a-a0f45fabe368"
      },
      "source": [
        "### Social aspects of Algorithms"
      ]
    },
    {
      "cell_type": "markdown",
      "id": "bb486ee8-30e0-41c0-a31c-f0d285681a52",
      "metadata": {
        "id": "bb486ee8-30e0-41c0-a31c-f0d285681a52"
      },
      "source": [
        "**In our project, the algorithm processes the air pollution data as mean values for one year for each province. As both spatial and temporal resolutions are rough for this type of study, and for the air pollution index, we find the overlap of some pollutants, not all pollutants influenced air quality, it is necessary to be careful about the conclusions. In general, standard environmental analysis of pollution dispersion and correlation to diseases demands an extensive analysis and specific expertise involved and modelling tools. This study's aim is limited to providing insight into the main sources and concentration of pollution per province and correlation with respiratory diseases. Therefore, any further conclusions demand more detailed investigation.**   "
      ]
    }
  ],
  "metadata": {
    "kernelspec": {
      "display_name": "Python 3 (ipykernel)",
      "language": "python",
      "name": "python3"
    },
    "language_info": {
      "codemirror_mode": {
        "name": "ipython",
        "version": 3
      },
      "file_extension": ".py",
      "mimetype": "text/x-python",
      "name": "python",
      "nbconvert_exporter": "python",
      "pygments_lexer": "ipython3",
      "version": "3.11.7"
    },
    "colab": {
      "provenance": [],
      "include_colab_link": true
    }
  },
  "nbformat": 4,
  "nbformat_minor": 5
}