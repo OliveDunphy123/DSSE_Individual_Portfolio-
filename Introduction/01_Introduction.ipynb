{
 "cells": [
  {
   "cell_type": "markdown",
   "id": "af8c8639-9587-4853-8e5e-9f26ee6880e7",
   "metadata": {},
   "source": [
    "**GRS35306 - Data Science for Smart Environments**"
   ]
  },
  {
   "cell_type": "markdown",
   "id": "1e3f0ac9-f019-4bfc-afb4-774efed6140e",
   "metadata": {},
   "source": [
    "# Individual Plan "
   ]
  },
  {
   "cell_type": "markdown",
   "id": "193e0ffc-f44c-4825-a21c-2868aaa46aa7",
   "metadata": {},
   "source": [
    "**Student: Qin Xu (1274376)** \\\n",
    "**MGI (Geo Information Science)**"
   ]
  },
  {
   "cell_type": "markdown",
   "id": "e5489b3f-71bc-4e90-8067-ef8e21993f21",
   "metadata": {},
   "source": [
    "---"
   ]
  },
  {
   "cell_type": "markdown",
   "id": "b1b74b42-f6c6-4270-be9e-5fb589d41665",
   "metadata": {},
   "source": [
    "### Backgroud and Motivation:"
   ]
  },
  {
   "cell_type": "markdown",
   "id": "64e4a799-64f0-4c17-9bfb-f9a9a2446895",
   "metadata": {},
   "source": [
    "I’m from MGI, I learned some basic knowledge of geo-spatial analysis with python and R ,but currently I'm only at the beginner level which means I only know some easy usage of script to do data preprocess, analysis. And I have very limited experience on Machine Learning. I only construced Random Forest model in R to indentify the pateches in raster. I cooperated with classmates to do geoscripting project before without thinking about the quality of datat because the data is provided by our supervisor.\\\n",
    "So I select this course and hope I can enjoy this course to fill my \"knowledege gaps\".\n",
    "I expect to learn more about geospatial analysis, know more about Machine learning models to conduct data analysis, and think more about data quality after getting out of this course."
   ]
  },
  {
   "cell_type": "markdown",
   "id": "ff953061-c53e-4c34-99ea-91eb9662f2da",
   "metadata": {},
   "source": [
    "### Personal Learning Goals:"
   ]
  },
  {
   "cell_type": "markdown",
   "id": "93a92b56-4cbf-459c-8856-98d7d7ae80b3",
   "metadata": {},
   "source": [
    "- Learn more about how to use library of GeoPandas to support geospatial data analysis.\n",
    "- Know more about how to use machine learning methods for feature selection.\n",
    "- Think about data quality in the process. "
   ]
  },
  {
   "cell_type": "markdown",
   "id": "c8364c96-75b9-4776-b321-0f6c29f0b50b",
   "metadata": {},
   "source": [
    "### Associated with Project:"
   ]
  },
  {
   "cell_type": "markdown",
   "id": "dc920485-7ea5-49c0-86f8-693934b28979",
   "metadata": {},
   "source": [
    "**Use Geopandas to support geospatial analysis:** The study area is in Poland which have provinces administrative level needed for project. To find the factors contribution to each province, the traffic and various industrial sectors are taken consideration in each province. Convert the industrial dataset which is dataframe to geodataframe based on columns of longtitude and latitude , and plot them in province administrative in one graph. "
   ]
  },
  {
   "cell_type": "markdown",
   "id": "b9186b06-3f59-4c2e-9d3b-d1090c7f2d45",
   "metadata": {},
   "source": [
    "**Use Machine learning methods for feature importance analysis:**  All tree-based methods are allowed to get \"feature importances\". I only tried the most two popular models :Random Forest and XGBoost. To fit the models to have a look at the feature importance in each province."
   ]
  },
  {
   "cell_type": "markdown",
   "id": "14148d90-51d5-43ba-a481-d0eadd9c67e0",
   "metadata": {},
   "source": [
    "**Make sure the data quality is fit for our purpose:** No matter in collecting data or processing data，Measuaring and monitoring the data to make sure fitting for use is a constant concern.Take completeness,validity,uniqueness,consistence and accuracy into consideration in whole process."
   ]
  },
  {
   "cell_type": "markdown",
   "id": "6ca08859-995f-4c9e-8110-689dd4608a28",
   "metadata": {},
   "source": [
    "### Where am I and Where I want to be:"
   ]
  },
  {
   "cell_type": "markdown",
   "id": "1cc3130e-ccda-44ad-a596-a1cb9c26c860",
   "metadata": {},
   "source": [
    "**Geopandas to support geospatial analysis:** \\\n",
    "The current level is beginner, know existance of geopandas but don't know how to use in practice. \\\n",
    "Hope to understand the data structure in Geopandas and know how to combine the concept of GeoPandas with practical."
   ]
  },
  {
   "cell_type": "markdown",
   "id": "2bf77a28-900f-4a0e-afb8-e3b98df12421",
   "metadata": {},
   "source": [
    "**Machine learning methods for feature importance analysis:** \\\n",
    "The current level is less than beginner, know existance of some machine learning models and algorithms but have nothing understanding of which model is fit for specific purpose.\\\n",
    "Hope to have better understanding of which model is more fit for research purpose and know how to use these powerful models alongside pandas,geopandas  and scikit-learn to build and tune supervised learning models. Work with real-world datasets in project to solve problems."
   ]
  },
  {
   "cell_type": "markdown",
   "id": "700c3b00-7431-4ae8-a0f9-a64ab6fbaebf",
   "metadata": {},
   "source": [
    "**Make sure the data quality is fit for our purpose:** \\\n",
    "The current level is beginner, trust in data and have less consideration of data completeness and uniqueness. \\\n",
    "Hope to implementing data quality rules and correcting data quality issues at the process.\n"
   ]
  },
  {
   "cell_type": "markdown",
   "id": "66a8ee00-ccc9-499d-9859-cbe4bc4965c9",
   "metadata": {},
   "source": [
    "**For note:** The detail of how to achieve the goals and the results are in the Folder Results."
   ]
  }
 ],
 "metadata": {
  "kernelspec": {
   "display_name": "Python 3 (ipykernel)",
   "language": "python",
   "name": "python3"
  },
  "language_info": {
   "codemirror_mode": {
    "name": "ipython",
    "version": 3
   },
   "file_extension": ".py",
   "mimetype": "text/x-python",
   "name": "python",
   "nbconvert_exporter": "python",
   "pygments_lexer": "ipython3",
   "version": "3.11.5"
  }
 },
 "nbformat": 4,
 "nbformat_minor": 5
}
