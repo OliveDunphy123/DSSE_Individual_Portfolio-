{
 "cells": [
  {
   "cell_type": "markdown",
   "id": "34d3c442-748a-4e3b-ac01-6c2a5ce1727a",
   "metadata": {},
   "source": [
    "**The background:**"
   ]
  },
  {
   "cell_type": "markdown",
   "id": "ae414df9-7e7e-4c26-b90f-aca42667acec",
   "metadata": {},
   "source": [
    "I'm always interested in how to use knowledge of science to solve some realistic problems,considering data science courses requirement and my own interest, I set three goals for myself to have fun in this courses with my groupmates. We are formed in one group because we have similar interested topics."
   ]
  },
  {
   "cell_type": "markdown",
   "id": "e162fd3a-224a-4272-93c3-748716822fbf",
   "metadata": {},
   "source": [
    "We choose air quality as our reasearch topic,but what do we want to know and what kind of problems we want to solve is our main thinking direction.We googled some news on air quality and know the air pollution is a constant issue in whole world. We found World major city air quality ranking in https://www.iqair.com/world-air-quality-ranking. Due to the richness of data and convenience of language, WE decided to choose Pland as our study area. After googled the news of air pollution in Poland these years, WE want to investigate what caused the bad air quality in Poland and the impacts of it. Then the problem is choose the time range we want to research, After listing the possible influences of air quality and searched the datasets , we found the time availablity is different in every datasets. \n"
   ]
  },
  {
   "cell_type": "markdown",
   "id": "788e48bd-b6ef-43b7-875e-ae6bbe1ee888",
   "metadata": {},
   "source": [
    "In the end ,we divided to 3 objectives: The first one is analyze the contribution of sources of Nitrogen Oxides (NOx) to the air pollution in Poland in 2019, The second one is investigate the relationship between traffic and emissions using machine learning and predict the emission in 2023, The third one is investigate the relationship of annual average concentration of PM 2.5 and rate of death caused by respiratory diseases."
   ]
  },
  {
   "cell_type": "markdown",
   "id": "86a7493e-fc42-48c9-a1d0-457e7a281250",
   "metadata": {},
   "source": [
    "Hudson and I take over the first task which is fit for my personal goals."
   ]
  },
  {
   "cell_type": "markdown",
   "id": "9b73ad4a-07fb-40a5-8333-4f6371c75e35",
   "metadata": {},
   "source": [
    "My goals are learning more about geospatial analysis, knowing more about Machine learning models to conduct data analysis, and thinking more about data quality after getting out of this course."
   ]
  },
  {
   "cell_type": "markdown",
   "id": "3b366164-9f7c-4d1d-abfb-5544f34cfc05",
   "metadata": {},
   "source": [
    "Although I've already practice with some geospatial analysis before, I had to admit that I'm not expertise in this, After doing the project, I know more about how to integrate spatial data into our Python Data Science workflow. For the machine learning , I know a little about this which means I only know the existence of some name fo model,After doing the project ,I know how to use Python to train decision trees and tree-based models with the user-friendly scikit-learn machine learning library.For the data quality, I know how to look at our data through a more critical lens and think about potential data quality issues before using it."
   ]
  }
 ],
 "metadata": {
  "kernelspec": {
   "display_name": "Python 3 (ipykernel)",
   "language": "python",
   "name": "python3"
  },
  "language_info": {
   "codemirror_mode": {
    "name": "ipython",
    "version": 3
   },
   "file_extension": ".py",
   "mimetype": "text/x-python",
   "name": "python",
   "nbconvert_exporter": "python",
   "pygments_lexer": "ipython3",
   "version": "3.11.7"
  }
 },
 "nbformat": 4,
 "nbformat_minor": 5
}
